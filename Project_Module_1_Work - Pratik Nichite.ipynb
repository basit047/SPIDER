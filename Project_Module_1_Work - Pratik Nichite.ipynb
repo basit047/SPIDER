{
 "cells": [
  {
   "cell_type": "code",
   "execution_count": 1,
   "id": "b2579806",
   "metadata": {},
   "outputs": [],
   "source": [
    "import nltk"
   ]
  },
  {
   "cell_type": "code",
   "execution_count": 2,
   "id": "edabdf20",
   "metadata": {},
   "outputs": [],
   "source": [
    "# nltk.download()\n"
   ]
  },
  {
   "cell_type": "code",
   "execution_count": 3,
   "id": "3ab45f0f",
   "metadata": {},
   "outputs": [],
   "source": [
    "from nltk.tokenize import sent_tokenize, word_tokenize"
   ]
  },
  {
   "cell_type": "code",
   "execution_count": 4,
   "id": "c967f11a",
   "metadata": {},
   "outputs": [
    {
     "data": {
      "text/plain": [
       "['What is nltk?',\n",
       " 'Natural Language Toolkit (NLTK) is a powerful Python library for working with human language data.',\n",
       " 'It provides tools and resources for tasks such as tokenization, stemming, tagging, parsing, and more.',\n",
       " 'I am Mr. Nicolas studying at thws universitat(THWS)']"
      ]
     },
     "execution_count": 4,
     "metadata": {},
     "output_type": "execute_result"
    }
   ],
   "source": [
    "example_text = \"What is nltk? Natural Language Toolkit (NLTK) is a powerful Python library for working with human language data. It provides tools and resources for tasks such as tokenization, stemming, tagging, parsing, and more. I am Mr. Nicolas studying at thws universitat(THWS)\"\n",
    "sent_tokenize(example_text)"
   ]
  },
  {
   "cell_type": "code",
   "execution_count": 5,
   "id": "9ed4e5d1",
   "metadata": {},
   "outputs": [
    {
     "name": "stdout",
     "output_type": "stream",
     "text": [
      "['What', 'is', 'nltk', '?', 'Natural', 'Language', 'Toolkit', '(', 'NLTK', ')', 'is', 'a', 'powerful', 'Python', 'library', 'for', 'working', 'with', 'human', 'language', 'data', '.', 'It', 'provides', 'tools', 'and', 'resources', 'for', 'tasks', 'such', 'as', 'tokenization', ',', 'stemming', ',', 'tagging', ',', 'parsing', ',', 'and', 'more', '.', 'I', 'am', 'Mr.', 'Nicolas', 'studying', 'at', 'thws', 'universitat', '(', 'THWS', ')']\n"
     ]
    }
   ],
   "source": [
    "word = word_tokenize(example_text)\n",
    "print(word)"
   ]
  },
  {
   "cell_type": "code",
   "execution_count": 6,
   "id": "6819777c",
   "metadata": {},
   "outputs": [
    {
     "name": "stdout",
     "output_type": "stream",
     "text": [
      "What\n",
      "is\n",
      "nltk\n",
      "?\n",
      "Natural\n",
      "Language\n",
      "Toolkit\n",
      "(\n",
      "NLTK\n",
      ")\n",
      "is\n",
      "a\n",
      "powerful\n",
      "Python\n",
      "library\n",
      "for\n",
      "working\n",
      "with\n",
      "human\n",
      "language\n",
      "data\n",
      ".\n",
      "It\n",
      "provides\n",
      "tools\n",
      "and\n",
      "resources\n",
      "for\n",
      "tasks\n",
      "such\n",
      "as\n",
      "tokenization\n",
      ",\n",
      "stemming\n",
      ",\n",
      "tagging\n",
      ",\n",
      "parsing\n",
      ",\n",
      "and\n",
      "more\n",
      ".\n",
      "I\n",
      "am\n",
      "Mr.\n",
      "Nicolas\n",
      "studying\n",
      "at\n",
      "thws\n",
      "universitat\n",
      "(\n",
      "THWS\n",
      ")\n"
     ]
    }
   ],
   "source": [
    "for i in word_tokenize(example_text):\n",
    "    print(i)"
   ]
  },
  {
   "cell_type": "code",
   "execution_count": 7,
   "id": "dd818838",
   "metadata": {},
   "outputs": [
    {
     "name": "stdout",
     "output_type": "stream",
     "text": [
      "{'again', 'further', 'weren', 'will', \"it's\", 'when', 'shan', \"wasn't\", 'those', 'd', 'hasn', 'as', \"that'll\", 'do', 'this', 'of', 'from', 'm', 'couldn', 'about', 'more', 'in', 'that', 'with', 'on', 'has', 'them', 've', 'our', 'who', 'too', 't', 'only', 'it', 'are', 'y', 'not', 'am', 'own', 'my', 'does', 'into', 'doesn', 'how', 'some', 'ourselves', \"you'd\", 'until', 'other', \"needn't\", 'out', 'yourselves', 'doing', 'or', \"you're\", 'all', 'o', \"won't\", 'me', 'won', 'they', 'yours', 'itself', \"couldn't\", 'whom', 'than', 'hadn', 'just', 'mightn', 'been', 'both', 'a', 'nor', \"should've\", 'aren', 'there', 'these', 'can', 'himself', 'most', \"you'll\", 'its', 'if', 'very', 'isn', 'which', 'before', 'haven', 'up', 'such', 'did', 'now', \"shouldn't\", 'few', 'at', 'because', 'myself', 'and', 'why', 'needn', 'was', 's', 'down', 'below', 'we', 'be', 'ours', \"doesn't\", 'against', 'she', \"mightn't\", \"don't\", 'then', 'an', 'have', 'hers', 'he', 'above', 'where', 'once', 're', 'him', 'so', 'yourself', 'between', 'ain', 'off', 'through', 'over', \"weren't\", \"haven't\", 'is', 'while', 'don', 'what', 'by', 'didn', 'should', 'same', \"wouldn't\", 'wasn', \"shan't\", 'theirs', \"hadn't\", 'ma', 'each', 'shouldn', 'after', 'no', \"hasn't\", \"she's\", 'for', 'here', \"mustn't\", 'wouldn', 'being', \"didn't\", \"you've\", 'his', 'you', \"isn't\", 'her', 'during', 'but', 'to', 'their', 'under', 'had', 'themselves', 'any', 'the', 'having', \"aren't\", 'i', 'were', 'll', 'mustn', 'your', 'herself'}\n"
     ]
    }
   ],
   "source": [
    "from nltk.corpus import stopwords\n",
    "stop_words = set(stopwords.words(\"english\"))\n",
    "print(stop_words)"
   ]
  },
  {
   "cell_type": "code",
   "execution_count": 8,
   "id": "9e5fe685",
   "metadata": {},
   "outputs": [
    {
     "name": "stdout",
     "output_type": "stream",
     "text": [
      "['What', 'nltk', '?', 'Natural', 'Language', 'Toolkit', '(', 'NLTK', ')', 'powerful', 'Python', 'library', 'working', 'human', 'language', 'data', '.', 'It', 'provides', 'tools', 'resources', 'tasks', 'tokenization', ',', 'stemming', ',', 'tagging', ',', 'parsing', ',', '.', 'I', 'Mr.', 'Nicolas', 'studying', 'thws', 'universitat', '(', 'THWS', ')']\n"
     ]
    }
   ],
   "source": [
    "# filtered_sentence = []\n",
    "# for w in  word:\n",
    "#     if w not in stop_words:\n",
    "#         filtered_sentence.append(w)\n",
    "filtered_sentence = [ w for w in  word if w not in stop_words]\n",
    "print(filtered_sentence)\n"
   ]
  },
  {
   "cell_type": "code",
   "execution_count": 9,
   "id": "560a97ae",
   "metadata": {},
   "outputs": [
    {
     "name": "stdout",
     "output_type": "stream",
     "text": [
      "python\n",
      "python\n",
      "python\n",
      "python\n",
      "python\n"
     ]
    }
   ],
   "source": [
    "from nltk.stem import PorterStemmer\n",
    "ps = PorterStemmer()\n",
    "example_words = [\"python\",\"pythoner\",\"pythoning\",\"pythoned\",\"pythons\"]\n",
    "for w in example_words:\n",
    "    print(ps.stem(w))"
   ]
  },
  {
   "cell_type": "code",
   "execution_count": 10,
   "id": "ba6e403b",
   "metadata": {},
   "outputs": [
    {
     "name": "stdout",
     "output_type": "stream",
     "text": [
      "good\n"
     ]
    }
   ],
   "source": [
    "from nltk.stem import WordNetLemmatizer\n",
    "lemmatizer = WordNetLemmatizer()\n",
    "print(lemmatizer.lemmatize(\"better\",'a'))"
   ]
  },
  {
   "cell_type": "code",
   "execution_count": 19,
   "id": "de668315",
   "metadata": {},
   "outputs": [
    {
     "name": "stdout",
     "output_type": "stream",
     "text": [
      "1333\n"
     ]
    }
   ],
   "source": [
    "import random\n",
    "from nltk.corpus import movie_reviews\n",
    "documents = [(list(movie_reviews.words(fileid)),category)\n",
    "             for category in movie_reviews.categories()\n",
    "             for fileid in movie_reviews.fileids(category)]\n",
    "random.shuffle(documents)\n",
    "\n",
    "# print(documents[1])\n",
    "\n",
    "# documents =[]\n",
    "# for category in movie_reviews.categories():\n",
    "#     for fileid in movies_reviews.fileids(category):\n",
    "#         documents.append(list(movie_reviews.words(fileid)),category)\n",
    "\n",
    "all_words = []\n",
    "for w in movie_reviews.words():\n",
    "    all_words.append(w.lower())\n",
    "all_words = nltk.FreqDist(all_words)\n",
    "# print(all_words.most_common(15))\n",
    "print(all_words[\"best\"])"
   ]
  },
  {
   "cell_type": "code",
   "execution_count": null,
   "id": "dbb3ebbd",
   "metadata": {},
   "outputs": [],
   "source": []
  }
 ],
 "metadata": {
  "kernelspec": {
   "display_name": "Python 3",
   "language": "python",
   "name": "python3"
  },
  "language_info": {
   "codemirror_mode": {
    "name": "ipython",
    "version": 3
   },
   "file_extension": ".py",
   "mimetype": "text/x-python",
   "name": "python",
   "nbconvert_exporter": "python",
   "pygments_lexer": "ipython3",
   "version": "3.10.9"
  }
 },
 "nbformat": 4,
 "nbformat_minor": 5
}
