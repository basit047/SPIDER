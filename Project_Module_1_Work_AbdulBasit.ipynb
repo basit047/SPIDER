{
 "cells": [
  {
   "cell_type": "code",
   "execution_count": 5,
   "id": "1275b4a3",
   "metadata": {},
   "outputs": [
    {
     "name": "stdout",
     "output_type": "stream",
     "text": [
      "Collecting python-docx\n",
      "  Using cached python_docx-1.1.0-py3-none-any.whl (239 kB)\n",
      "Requirement already satisfied: lxml>=3.1.0 in c:\\users\\harri\\anaconda3\\lib\\site-packages (from python-docx) (4.9.1)\n",
      "Requirement already satisfied: typing-extensions in c:\\users\\harri\\anaconda3\\lib\\site-packages (from python-docx) (4.4.0)\n",
      "Installing collected packages: python-docx\n",
      "Successfully installed python-docx-1.1.0\n",
      "Note: you may need to restart the kernel to use updated packages.\n"
     ]
    }
   ],
   "source": [
    "pip install python-docx "
   ]
  },
  {
   "cell_type": "code",
   "execution_count": 20,
   "id": "86811ae2",
   "metadata": {},
   "outputs": [],
   "source": [
    "from docx import Document\n",
    "import re"
   ]
  },
  {
   "cell_type": "code",
   "execution_count": 8,
   "id": "9ca9750b",
   "metadata": {},
   "outputs": [],
   "source": [
    "def read_docx(file_path):\n",
    "    doc = Document(file_path)\n",
    "    content = []\n",
    "    for paragraph in doc.paragraphs:\n",
    "        content.append(paragraph.text)\n",
    "    return '\\n'.join(content) # add new line"
   ]
  },
  {
   "cell_type": "code",
   "execution_count": 9,
   "id": "83b6b64b",
   "metadata": {},
   "outputs": [],
   "source": [
    "def write_to_txt(content, txt_file_path):\n",
    "    with open(txt_file_path, 'w', encoding='utf-8') as txt_file:\n",
    "        txt_file.write(content)"
   ]
  },
  {
   "cell_type": "code",
   "execution_count": 23,
   "id": "5aff68ef",
   "metadata": {},
   "outputs": [
    {
     "name": "stdout",
     "output_type": "stream",
     "text": [
      "HEADER\n",
      "What is Lorem Ipsum?\n",
      "Lorem Ipsum is simply dummy text of the printing and typesetting industry. Lorem Ipsum has been the industry's standard dummy text ever since the 1500s, when an unknown printer took a galley of type and scrambled it to make a type specimen book. It has survived not only five centuries, but also the leap into electronic typesetting, remaining essentially unchanged. It was popularised in the 1960s with the release of Letraset sheets containing Lorem Ipsum passages, and more recently with desktop publishing software like Aldus PageMaker including versions of Lorem Ipsum.\n",
      "Why do we use it?\n",
      "It is a long established fact that a reader will be distracted by the readable content of a page when looking at its layout. The point of using Lorem Ipsum is that it has a more-or-less normal distribution of letters, as opposed to using 'Content here, content here', making it look like readable English. Many desktop publishing packages and web page editors now use Lorem Ipsum as their default model text, and a search for 'lorem ipsum' will uncover many web sites still in their infancy. Various versions have evolved over the years, sometimes by accident, sometimes on purpose (injected humour and the like).\n",
      "\n",
      "Where does it come from?\n",
      "Contrary to popular belief, Lorem Ipsum is not simply random text. It has roots in a piece of classical Latin literature from 45 BC, making it over 2000 years old. Richard McClintock, a Latin professor at Hampden-Sydney College in Virginia, looked up one of the more obscure Latin words, consectetur, from a Lorem Ipsum passage, and going through the cites of the word in classical literature, discovered the undoubtable source. Lorem Ipsum comes from sections 1.10.32 and 1.10.33 of \"de Finibus Bonorum et Malorum\" (The Extremes of Good and Evil) by Cicero, written in 45 BC. This book is a treatise on the theory of ethics, very popular during the Renaissance. The first line of Lorem Ipsum, \"Lorem ipsum dolor sit amet..\", comes from a line in section 1.10.32.\n",
      "The standard chunk of Lorem Ipsum used since the 1500s is reproduced below for those interested. Sections 1.10.32 and 1.10.33 from \"de Finibus Bonorum et Malorum\" by Cicero are also reproduced in their exact original form, accompanied by English versions from the 1914 translation by H. Rackham.\n",
      "Where can I get some?\n",
      "sss\n"
     ]
    }
   ],
   "source": [
    "file_path = r\"C:\\Users\\harri\\OneDrive\\Desktop\\Project_Module_I\\InputDoc.docx\"\n",
    "doc_content = read_docx(file_path)\n",
    "print(doc_content)"
   ]
  },
  {
   "cell_type": "code",
   "execution_count": 24,
   "id": "e696c1c1",
   "metadata": {},
   "outputs": [],
   "source": [
    "write_to_txt(doc_content, r\"C:\\Users\\harri\\OneDrive\\Desktop\\Project_Module_I\\Notepad1.txt\")"
   ]
  },
  {
   "cell_type": "code",
   "execution_count": 25,
   "id": "4bb608a5",
   "metadata": {},
   "outputs": [],
   "source": [
    "def count_frequency_of_word_in_a_sentence(text, delimeter = r' |\\n') :\n",
    "    list_of_words = re.split(delimeter, text)\n",
    "    \n",
    "    dictionary = {}\n",
    "    \n",
    "    for word in list_of_words:\n",
    "        if word in dictionary:\n",
    "            dictionary[word] = dictionary[word] + 1\n",
    "        else:\n",
    "            dictionary[word] = 1\n",
    "            \n",
    "    \n",
    "    print(dictionary)"
   ]
  },
  {
   "cell_type": "code",
   "execution_count": 26,
   "id": "b599ccc7",
   "metadata": {},
   "outputs": [
    {
     "name": "stdout",
     "output_type": "stream",
     "text": [
      "{'HEADER': 1, 'What': 1, 'is': 7, 'Lorem': 12, 'Ipsum?': 1, 'Ipsum': 9, 'simply': 2, 'dummy': 2, 'text': 2, 'of': 15, 'the': 17, 'printing': 1, 'and': 10, 'typesetting': 1, 'industry.': 1, 'has': 4, 'been': 1, \"industry's\": 1, 'standard': 2, 'ever': 1, 'since': 2, '1500s,': 1, 'when': 2, 'an': 1, 'unknown': 1, 'printer': 1, 'took': 1, 'a': 12, 'galley': 1, 'type': 2, 'scrambled': 1, 'it': 5, 'to': 3, 'make': 1, 'specimen': 1, 'book.': 1, 'It': 4, 'survived': 1, 'not': 2, 'only': 1, 'five': 1, 'centuries,': 1, 'but': 1, 'also': 2, 'leap': 1, 'into': 1, 'electronic': 1, 'typesetting,': 1, 'remaining': 1, 'essentially': 1, 'unchanged.': 1, 'was': 1, 'popularised': 1, 'in': 8, '1960s': 1, 'with': 2, 'release': 1, 'Letraset': 1, 'sheets': 1, 'containing': 1, 'passages,': 1, 'more': 2, 'recently': 1, 'desktop': 2, 'publishing': 2, 'software': 1, 'like': 2, 'Aldus': 1, 'PageMaker': 1, 'including': 1, 'versions': 3, 'Ipsum.': 1, 'Why': 1, 'do': 1, 'we': 1, 'use': 2, 'it?': 1, 'long': 1, 'established': 1, 'fact': 1, 'that': 2, 'reader': 1, 'will': 2, 'be': 1, 'distracted': 1, 'by': 6, 'readable': 2, 'content': 2, 'page': 2, 'looking': 1, 'at': 2, 'its': 1, 'layout.': 1, 'The': 3, 'point': 1, 'using': 2, 'more-or-less': 1, 'normal': 1, 'distribution': 1, 'letters,': 1, 'as': 2, 'opposed': 1, \"'Content\": 1, 'here,': 1, \"here',\": 1, 'making': 2, 'look': 1, 'English.': 1, 'Many': 1, 'packages': 1, 'web': 2, 'editors': 1, 'now': 1, 'their': 3, 'default': 1, 'model': 1, 'text,': 1, 'search': 1, 'for': 2, \"'lorem\": 1, \"ipsum'\": 1, 'uncover': 1, 'many': 1, 'sites': 1, 'still': 1, 'infancy.': 1, 'Various': 1, 'have': 1, 'evolved': 1, 'over': 2, 'years,': 1, 'sometimes': 2, 'accident,': 1, 'on': 2, 'purpose': 1, '(injected': 1, 'humour': 1, 'like).': 1, '': 1, 'Where': 2, 'does': 1, 'come': 1, 'from?': 1, 'Contrary': 1, 'popular': 2, 'belief,': 1, 'random': 1, 'text.': 1, 'roots': 1, 'piece': 1, 'classical': 2, 'Latin': 3, 'literature': 1, 'from': 6, '45': 2, 'BC,': 1, '2000': 1, 'years': 1, 'old.': 1, 'Richard': 1, 'McClintock,': 1, 'professor': 1, 'Hampden-Sydney': 1, 'College': 1, 'Virginia,': 1, 'looked': 1, 'up': 1, 'one': 1, 'obscure': 1, 'words,': 1, 'consectetur,': 1, 'passage,': 1, 'going': 1, 'through': 1, 'cites': 1, 'word': 1, 'literature,': 1, 'discovered': 1, 'undoubtable': 1, 'source.': 1, 'comes': 2, 'sections': 1, '1.10.32': 2, '1.10.33': 2, '\"de': 2, 'Finibus': 2, 'Bonorum': 2, 'et': 2, 'Malorum\"': 2, '(The': 1, 'Extremes': 1, 'Good': 1, 'Evil)': 1, 'Cicero,': 1, 'written': 1, 'BC.': 1, 'This': 1, 'book': 1, 'treatise': 1, 'theory': 1, 'ethics,': 1, 'very': 1, 'during': 1, 'Renaissance.': 1, 'first': 1, 'line': 2, 'Ipsum,': 1, '\"Lorem': 1, 'ipsum': 1, 'dolor': 1, 'sit': 1, 'amet..\",': 1, 'section': 1, '1.10.32.': 1, 'chunk': 1, 'used': 1, '1500s': 1, 'reproduced': 2, 'below': 1, 'those': 1, 'interested.': 1, 'Sections': 1, 'Cicero': 1, 'are': 1, 'exact': 1, 'original': 1, 'form,': 1, 'accompanied': 1, 'English': 1, '1914': 1, 'translation': 1, 'H.': 1, 'Rackham.': 1, 'can': 1, 'I': 1, 'get': 1, 'some?': 1, 'sss': 1}\n"
     ]
    }
   ],
   "source": [
    "file_path = r\"C:\\Users\\harri\\OneDrive\\Desktop\\Project_Module_I\\InputDoc.docx\"\n",
    "doc_content = read_docx(file_path)\n",
    "count_frequency_of_word_in_a_sentence(doc_content)"
   ]
  }
 ],
 "metadata": {
  "kernelspec": {
   "display_name": "Python 3 (ipykernel)",
   "language": "python",
   "name": "python3"
  },
  "language_info": {
   "codemirror_mode": {
    "name": "ipython",
    "version": 3
   },
   "file_extension": ".py",
   "mimetype": "text/x-python",
   "name": "python",
   "nbconvert_exporter": "python",
   "pygments_lexer": "ipython3",
   "version": "3.10.9"
  }
 },
 "nbformat": 4,
 "nbformat_minor": 5
}
